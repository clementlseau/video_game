{
 "cells": [
  {
   "cell_type": "markdown",
   "id": "0337521a-0dcd-4780-82a2-67180e6355fb",
   "metadata": {},
   "source": [
    "## Partie 1 — Préparation du moteur de recherche et baseline de pertinence"
   ]
  },
  {
   "cell_type": "code",
   "execution_count": 1,
   "id": "c0622c83",
   "metadata": {},
   "outputs": [],
   "source": [
    "from elasticsearch import Elasticsearch\n",
    "from dotenv import load_dotenv\n",
    "from openai import OpenAI\n",
    "import pytrec_eval\n",
    "import tiktoken\n",
    "import mlflow\n",
    "import json\n",
    "import math\n",
    "import os"
   ]
  },
  {
   "cell_type": "markdown",
   "id": "a571d6f4",
   "metadata": {},
   "source": [
    "### Data analysis"
   ]
  },
  {
   "cell_type": "code",
   "execution_count": 2,
   "id": "50f3942a",
   "metadata": {},
   "outputs": [],
   "source": [
    "file_path = \"data/wikipedia.json\""
   ]
  },
  {
   "cell_type": "code",
   "execution_count": 3,
   "id": "1f6ab1a5",
   "metadata": {},
   "outputs": [],
   "source": [
    "data = []\n",
    "\n",
    "with open(file_path, \"r\", encoding=\"utf-8\") as f :\n",
    "    for line in f :\n",
    "        line = line.strip()\n",
    "        if line :  \n",
    "            data.append(json.loads(line))"
   ]
  },
  {
   "cell_type": "code",
   "execution_count": 4,
   "id": "161c3070",
   "metadata": {},
   "outputs": [
    {
     "name": "stdout",
     "output_type": "stream",
     "text": [
      "<class 'list'>\n",
      "12020\n"
     ]
    }
   ],
   "source": [
    "print(type(data))\n",
    "print(len(data))"
   ]
  },
  {
   "cell_type": "code",
   "execution_count": 23,
   "id": "8a4242cd",
   "metadata": {},
   "outputs": [],
   "source": [
    "all_keys = set()\n",
    "for key in data :\n",
    "    all_keys.update(key.keys())"
   ]
  },
  {
   "cell_type": "code",
   "execution_count": 24,
   "id": "d6c91319",
   "metadata": {},
   "outputs": [
    {
     "data": {
      "text/plain": [
       "{'_id', 'content', 'games', 'skip', 'url'}"
      ]
     },
     "execution_count": 24,
     "metadata": {},
     "output_type": "execute_result"
    }
   ],
   "source": [
    "all_keys"
   ]
  },
  {
   "cell_type": "code",
   "execution_count": 25,
   "id": "e62bc803",
   "metadata": {},
   "outputs": [
    {
     "data": {
      "text/plain": [
       "[{'_id': 'Pbq-UGAkFr',\n",
       "  'url': 'https://en.wikipedia.org/wiki/Final_Fantasy_Adventure',\n",
       "  'content': {'title': 'Final Fantasy Adventure',\n",
       "   'summary': 'Final Fantasy Adventure, known in Japan as Seiken Densetsu: Final Fantasy Gaiden or simply Seiken Densetsu, and later released in Europe as Mystic Quest, is a 1991 action role-playing game developed and published by Square for the Game Boy. It is a spin-off of the Final Fantasy series and the first game in the Mana series. \\nOriginally developed under the name Gemma Knights, it features gameplay roughly similar to that of the original The Legend of Zelda, but with the addition of role-playing statistical elements. A remake, Sword of Mana, was released for the Game Boy Advance in 2003, changing the plot and many gameplay aspects. A second remake was released on mobile phones in Japan which improved the graphics and music of the original version. A third remake, Adventures of Mana, was released for iOS, Android, and PlayStation Vita on February 4, 2016.\\nThe story follows the hero and the heroine as they attempt to thwart the Dark Lord of Glaive and his sorcerer assistant, Julius, from destroying the Tree of Mana and dooming their world. The game was released with many familiar elements of the Final Fantasy series, such as chocobos, but these were later changed to feature common enemies and the gameplay style of the Mana series.\\nFinal Fantasy Adventure was met with generally positive reviews at the time of its release. Over the course of time, reviewers have considered it one of the best action adventure games on the Game Boy. The game also spawned an entirely new game series, called the Mana series, which became a successful video game role-playing franchise. Its sequel, Secret of Mana, was released in 1993.',\n",
       "   'sections': [{'title': 'Gameplay',\n",
       "     'text': \"The gameplay is similar to the original The Legend of Zelda for the NES: the world is viewed from a top-down camera angle, it is divided up into many different squares that can fit on the screen, and the main character can move up, down, left, and right across the screen. The player can interact with individuals within towns by gathering information and buying or selling items and equipment. A variety of enemies can be battled on a field screen to gain experience, GP, and items. Within dungeon areas, a number of puzzles may be present and required to be solved in order for the player to advance. The player can also save at any point. A number of weapons can be found throughout the game to maneuver through obstacles such as cutting through trees and thorns.\\nThe main character possesses several statistics, including hit points, power, and stamina, which can all increase upon gaining an experience level. Magic spells, which expend the character's MP, can be used to heal oneself or damage enemies. These spells can only be found in certain locations or obtained from other characters at specific plot intervals. In addition, the protagonist has a power gauge that affects his attack strength—the higher the gauge, the stronger his attack will be. The speed at which it fills is directly affected by the character's will level. The gauge will slowly fill up over time, but once the main character attacks, the gauge is emptied. When the gauge is completely filled up and the main character attacks with a weapon, he will perform a special attack.\\nOne additional non-player character may occasionally accompany the main character in the story and can perform different activities to aid the main character in his quest. The game introduced the ability to kill townspeople, something that many Japanese role-playing video games of the time lacked.\",\n",
       "     'subsections': []},\n",
       "    {'title': 'Plot',\n",
       "     'text': \"The Hero (named by the player, officially called Sumo) is a prisoner of the Dark Lord. One day, the Hero's friend informs him of the Dark Lord's goals, and he urges him to seek a Knight named Bogard. As the Hero escapes imprisonment, he learns that the Dark Lord is seeking a key to the Mana Sanctuary in order to control the Mana Tree, an energy source that sustains life. The Hero is befriended by the Heroine (named by the player, officially called Fuji) who is also seeking Bogard. The two find Bogard, who recommends they seek out a man named Cibba. During their journey to meet him, the Heroine is kidnapped. With the aid of a mysterious man, she is later rescued by the Hero. When they meet Cibba, he plays a message left by the Heroine's mother, who reveals she is a descendant of the guardians of the Mana Tree and her pendant is the key to it. The mysterious man, upon discovering that the heroine holds the pendant, reveals himself to be Julius, the Dark Lord's advisor, and kidnaps her. The Hero then attempts to rescue the Heroine, but he fails and is knocked off of Julius's airship. However, the Heroine gives the Hero the pendant just before he falls.\\nThe Hero is then reunited with Amanda, an escapee from his prison, who steals the pendant in order to win her brother Lester's freedom. The mayor of Jadd, Davias, takes the pendant, but he transforms Lester into a parrot. The Hero and Amanda confront a Medusa for its tear, which will break the spell. They kill it, but Amanda is infected by the Medusa's attack, causing her to transform into one herself. The Hero reluctantly kills her, and uses her tears to break Lester's spell. Lester avenges Amanda's death by killing Davias, who reveals that he gave the pendant to the Dark Lord. The Hero confronts and defeats the Dark Lord; however, Hero discovers that the Heroine is under Julius' mind control and has opened the entrance to the Mana Tree. Julius reveals he is the last survivor of the Vandole Empire, the empire who attempted to control the Mana Tree years ago, and handily defeats the Hero.\\nRealizing he is powerless to defeat Julius, the Hero learns from Cibba about a powerful sword called Excalibur. Cibba helps him find the Excalibur only to find a rusty sword instead. He explains that the rusty sword is the Excalibur and would reveal its true strength to whoever it finds worthy. The Hero then raises Dime Tower to reach the Mana Sanctuary and meets a robot known as Marcie. After reaching the top, the tower begins to collapse and Marcie sacrifices himself by throwing the Hero across. After obtaining and passing the sword's trials, the Hero confronts and defeats Julius at the cost of the Mana Tree's life. The Mana Tree reveals that she is the Heroine's mother and before dying, asks the Heroine to succeed her current position. The Heroine agrees and bids farewell to the Hero as she becomes the next Mana Tree, and the Hero her guardian.\",\n",
       "     'subsections': []},\n",
       "    {'title': 'Development',\n",
       "     'text': \"Square trademarked Seiken Densetsu in 1987 intending to use it for a game project subtitled The Emergence of Excalibur, and led by Kazuhiko Aoki for the Famicom Disk System. According to early advertisements, the game would consist of an unprecedented five floppy disks, making it one of the largest titles developed for the Famicom up until that point. Although Square solicited pre-orders for the game, Kaoru Moriyama, a former Square employee, affirms that management canceled the ambitious project before it advanced beyond the early planning stages. In October 1987, customers who had placed orders were sent a letter informing them of the cancellation and had their purchases refunded. The letter also suggested to consider placing an order on another upcoming Square role-playing game in a similar vein: Final Fantasy.\\nAfter the release of the third Final Fantasy title in 1990, Square offered designer Koichi Ishii to direct a spin-off series game. It began development for the Game Boy under the working title Gemma Knights; eventually, Square revived the trademarked name and released the game as Seiken Densetsu: Final Fantasy Gaiden. It was later released in Europe as Mystic Quest. Ishii suggested the basis of the game's story, while scenario writer Yoshinori Kitase helped write the game's script. Ishii designed all of the characters himself, while Goro Ohashi was responsible for the development of the game system.\\nThe Mana series, of which Final Fantasy Adventure was the first game,  was the result of Koichi Ishii's desire to create a fictional world. In Ishii's opinion, Mana is not a series of video games, but rather a world which is illustrated by and can be explored through video games. When working on the series, Koichi Ishii drew inspiration from abstract images from his memories of childhood, as well as films and fantasy books that captivated him as a child. Ishii took care to avoid set conventions, and his influences are correspondingly very wide and non-specific. Nonetheless, among his literary influences, he acknowledges Tove Jansson's Moomin, Lewis Carroll's Alice's Adventures in Wonderland, and J. R. R. Tolkien's Lord of the Rings.\",\n",
       "     'subsections': [{'title': 'Music',\n",
       "       'text': 'The Seiken Densetsu: Final Fantasy Gaiden Original Soundtrack was released in Japan on July 15, 1991. Most of the tracks were composed by Kenji Ito, while track 16, \"Chocobo Tanjou (Chocobo\\'s Birth)\", is credited to Square composer Nobuo Uematsu. Seiken Densetsu/Arranged Version Omoi wa Shirabe ni Nosete, a set of arranged tracks was also released on September 30 the same year. Both albums were compiled into Seiken Densetsu: Final Fantasy Gaiden Sound Collections, originally released on August 18, 1995. The game\\'s music was included in a 20th anniversary CD compilation of all of the Mana series games\\' soundtracks. A second arranged album titled Tanoshī Baieru Heiyō Seiken Densetsu was released on December 10, 1998. The album was compiled by Yu Hong Ishikawa and Kushiro Negishi.',\n",
       "       'subsections': []}]},\n",
       "    {'title': 'Versions and merchandise',\n",
       "     'text': \"In 1998, Sunsoft obtained the license for it and re-released it along with the Final Fantasy Legend games. This version was advertised as having Game Boy Color support, although the release was not enhanced in any way. RPGamer reported in July 2004 that Square Enix was polling die-hard customers, testing the feasibility of porting Final Fantasy Adventure to the Nintendo DS. GamesRadar listed Final Fantasy Adventure as one of the titles they wanted in the 3DS Virtual Console.\\nThe game received a remake for the Game Boy Advance called Sword of Mana in 2003. The original version was remade again to mobile phones and released on August 16, 2006 for SoftBank's 3G network. It was later ported onto i-Mode distribution service on November 6 and EZweb distribution service on February 5, 2007. The gameplay of the mobile phone version is closer to the original game's design, but featuring updated graphics and sound, an improved world map, and other minor changes. The characters have been redesigned several times between each remake. A 3D remake, Adventures of Mana, was released in 2016 for PlayStation Vita, Android and iOS. A port of the original game for the Nintendo Switch was released with ports of Secret of Mana and Trials of Mana as part of the Seiken Densetsu Collection on June 1, 2017 in Japan and on June 11, 2019 in North America and Europe as Collection of Mana.\\nTwo guidebooks have been released in Japan: Seiken Densetsu: Final Fantasy Gaiden kiso chishiki-hen and Seiken Densetsu Final Fantasy Gaiden kanzen kōryaku-hen, each of which contains character illustrations and manga. The guidebooks were released in May and August 1991 respectively.\",\n",
       "     'subsections': [{'title': 'Other manga',\n",
       "       'text': \"Final Fantasy Adventure is one of the video games featured in the manga titled Rock'n Game Boy, by Shigeto Ikehara and published by Comic BomBom from October 1989 to December 1991.\",\n",
       "       'subsections': []}]},\n",
       "    {'title': 'Reception',\n",
       "     'text': 'According to Square\\'s publicity department, the game sold 700,000 units worldwide, with 500,000 of these sold in Japan.\\nFinal Fantasy Adventure was featured in Nintendo Power when it was re-released in the United States. IGN praised the Game Boy re-release version noting its strong story, graphics, and music. They additionally praised the game\\'s puzzle elements as innovative and drew comparisons to The Legend of Zelda: Link\\'s Awakening, though noted that its role-playing gameplay did not blend well with its action-oriented nature. RPGFan also praised the game and called it one of the best RPG titles for Game Boy. RPGamer praised the game\\'s plot and the characters. Nintendojo also gave similar praise to the game but noting it being vastly different from other Final Fantasy titles.\\nThe game has been perceived very positively in the years following its initial release. GameDaily named it alongside the other Game Boy Final Fantasy titles as definitive games for the system, describing it as providing \"hours of role-playing\" to play. The sentiment was shared by gaming magazine Pocket Games, which ranked the titles together 8th out of the Top 50 games for the Game Boy, stating that every game in the series is a classic with well-written scripts and solid characters. Kotaku praised the original release of the game as a \"really great action-RPG\". 1UP.com called the game ambitious for its time, writing that it represented an evolution of the overhead perspective action adventure genre. They also rated the game as \"Worth It!\" in terms of buying and enjoying the original game in 2007, and noted it as the origins of the Mana series\\' many unique gameplay features. GamesRadar named it the 13th best Game Boy game ever made, noting that its interesting leveling system and a large number of collectible items made up for a poor English translation. Game Informer also praised the game\\'s leveling system, though it did call it a \"simplistic\" title in comparison to its sequels.',\n",
       "     'subsections': []},\n",
       "    {'title': 'References',\n",
       "     'text': 'Translations\\n\\nCitations',\n",
       "     'subsections': []},\n",
       "    {'title': 'External links',\n",
       "     'text': 'Official website (in English)\\nMystic Quest at MobyGames',\n",
       "     'subsections': []}]},\n",
       "  'skip': False},\n",
       " {'_id': 'UOIV12pdAb',\n",
       "  'url': 'https://en.wikipedia.org/wiki/Indiana_Jones_and_the_Last_Crusade:_The_Action_Game',\n",
       "  'content': {'title': 'Indiana Jones and the Last Crusade: The Action Game',\n",
       "   'summary': 'Indiana Jones and the Last Crusade: The Action Game was published in 1989 by Lucasfilm Games, based on the film of the same name. The game was released for the ZX Spectrum, Amstrad CPC, Commodore 64, Atari ST, Amiga, IBM PC, MSX, Master System, NES, Game Boy, Sega Genesis and Game Gear.\\nIt is a different game from Indiana Jones and the Last Crusade: The Graphic Adventure, also released in 1989. There is also a different game for the Nintendo Entertainment System titled Indiana Jones and the Last Crusade, released by Taito in 1991.',\n",
       "   'sections': [{'title': 'Gameplay',\n",
       "     'text': \"As in the film, the player's quest is to find the Holy Grail. En route, the player must find the Cross of Coronado, the Knight of the First Crusade's Shield and Henry Jones, Sr.'s Grail Diary.\",\n",
       "     'subsections': []},\n",
       "    {'title': 'Reception',\n",
       "     'text': 'The game grossed £5,500,000 or $7,534,000 (equivalent to $19,000,000 in 2023) in worldwide sales across all platforms by 1994.\\nComputer Gaming World gave the game a negative review and said it was \"just another search and recover game\" with little to do with Indiana Jones. The review praised the graphics and sound, but found the fight sequences both too easy and too short, since all enemies could be defeated in one hit and turned their backs shortly after attacking the player. Compute! liked the Commodore 64 version, approving of the graphics and describing gameplay as \"quite addicting\", but criticizing lack of savegame and replay value.\\nIt reached number one in the UK charts, replacing RoboCop which had held the top spot for a record 36 weeks.\\nNintendo Power, reviewing the NES version, praised the action gameplay and noted that the music and levels helped recreate the feel of the movie. Nintendo Power was not impressed with the character graphics but stated that the animation \"is quite good\" for the NES. Nintendo Power praised the Game Boy version for its graphics, password system, and challenging gameplay, but criticized the poor \"hit detection\" and the time limits on each level, both of which made the game more difficult. The action game features six levels and a password feature. Game Players rated the NES version 52 percent.',\n",
       "     'subsections': []},\n",
       "    {'title': 'References', 'text': '', 'subsections': []},\n",
       "    {'title': 'External links',\n",
       "     'text': 'Indiana Jones and the Last Crusade: The Action Game at MobyGames\\nIndiana Jones and the Last Crusade: The Action Game can be played for free in the browser at the Internet Archive',\n",
       "     'subsections': []}]},\n",
       "  'skip': False}]"
      ]
     },
     "execution_count": 25,
     "metadata": {},
     "output_type": "execute_result"
    }
   ],
   "source": [
    "data[:2]"
   ]
  },
  {
   "cell_type": "code",
   "execution_count": 26,
   "id": "217bfcaa",
   "metadata": {},
   "outputs": [],
   "source": [
    "def get_keys(obj, parent_key='') :\n",
    "    keys = set()\n",
    "    if isinstance(obj, dict):\n",
    "        for k, v in obj.items() :\n",
    "            full_key = f\"{parent_key}.{k}\" if parent_key else k\n",
    "            keys.add(full_key)\n",
    "            keys.update(get_keys(v, full_key))\n",
    "\n",
    "    elif isinstance(obj, list) :\n",
    "        for item in obj:\n",
    "            keys.update(get_keys(item, parent_key))\n",
    "    return keys\n",
    "\n",
    "all_keys = get_keys(data)"
   ]
  },
  {
   "cell_type": "code",
   "execution_count": 27,
   "id": "6ab99d17",
   "metadata": {},
   "outputs": [
    {
     "name": "stdout",
     "output_type": "stream",
     "text": [
      "_id\n",
      "content\n",
      "content.sections\n",
      "content.sections.subsections\n",
      "content.sections.subsections.subsections\n",
      "content.sections.subsections.subsections.subsections\n",
      "content.sections.subsections.subsections.subsections.subsections\n",
      "content.sections.subsections.subsections.subsections.subsections.subsections\n",
      "content.sections.subsections.subsections.subsections.subsections.text\n",
      "content.sections.subsections.subsections.subsections.subsections.title\n",
      "content.sections.subsections.subsections.subsections.text\n",
      "content.sections.subsections.subsections.subsections.title\n",
      "content.sections.subsections.subsections.text\n",
      "content.sections.subsections.subsections.title\n",
      "content.sections.subsections.text\n",
      "content.sections.subsections.title\n",
      "content.sections.text\n",
      "content.sections.title\n",
      "content.summary\n",
      "content.title\n",
      "games\n",
      "skip\n",
      "url\n"
     ]
    }
   ],
   "source": [
    "for key in sorted(all_keys) :\n",
    "    print(key)"
   ]
  },
  {
   "cell_type": "markdown",
   "id": "c6a0feba",
   "metadata": {},
   "source": [
    "### Index es"
   ]
  },
  {
   "cell_type": "code",
   "execution_count": 28,
   "id": "c385860b",
   "metadata": {},
   "outputs": [],
   "source": [
    "es = Elasticsearch(\"http://localhost:9200\")\n",
    "index_name = \"wikipedia\""
   ]
  },
  {
   "cell_type": "code",
   "execution_count": 29,
   "id": "88288588",
   "metadata": {},
   "outputs": [
    {
     "name": "stdout",
     "output_type": "stream",
     "text": [
      "{'name': '921fa652c27e', 'cluster_name': 'docker-cluster', 'cluster_uuid': 'cInJFOj1Ttu98Lb6npU61g', 'version': {'number': '8.19.0', 'build_flavor': 'default', 'build_type': 'docker', 'build_hash': '93788a8c2882eb5b606510680fac214cff1c7a22', 'build_date': '2025-07-23T22:10:18.138212839Z', 'build_snapshot': False, 'lucene_version': '9.12.2', 'minimum_wire_compatibility_version': '7.17.0', 'minimum_index_compatibility_version': '7.0.0'}, 'tagline': 'You Know, for Search'}\n"
     ]
    }
   ],
   "source": [
    "print(es.info())"
   ]
  },
  {
   "cell_type": "code",
   "execution_count": 30,
   "id": "9dcd7738",
   "metadata": {},
   "outputs": [],
   "source": [
    "if not es.indices.exists(index=index_name) :\n",
    "    es.indices.create(index=index_name)"
   ]
  },
  {
   "cell_type": "code",
   "execution_count": 31,
   "id": "29ef63c8",
   "metadata": {},
   "outputs": [
    {
     "name": "stdout",
     "output_type": "stream",
     "text": [
      "Indexation finie : 12020 docs\n"
     ]
    }
   ],
   "source": [
    "for doc in data:\n",
    "    doc_id = doc.pop(\"_id\", None)\n",
    "    es.index(index=\"wikipedia\", id=doc_id, document=doc)\n",
    "\n",
    "print(f\"Indexation finie : {len(data)} docs\")"
   ]
  },
  {
   "cell_type": "markdown",
   "id": "af1024a7",
   "metadata": {},
   "source": [
    "### Interrogation de la base (top 100)"
   ]
  },
  {
   "cell_type": "code",
   "execution_count": null,
   "id": "75cfbc56",
   "metadata": {},
   "outputs": [],
   "source": [
    "# Selection des champs pertinents\n",
    "def get_text_fields(obj, parent_key=''):\n",
    "    \"\"\"\n",
    "    Parcourt le dataset et retourne les key qui sont sous format str\n",
    "    \"\"\"\n",
    "    text_fields = set()\n",
    "    \n",
    "    if isinstance(obj, dict) :\n",
    "        for k, v in obj.items() :\n",
    "            full_key = f\"{parent_key}.{k}\" if parent_key else k\n",
    "\n",
    "            if isinstance(v, str):\n",
    "                text_fields.add(full_key)\n",
    "\n",
    "            elif isinstance(v, list) :\n",
    "                if all(isinstance(i, str) for i in v) :\n",
    "                    text_fields.add(full_key)\n",
    "                else:\n",
    "                    for item in v : \n",
    "                        text_fields.update(get_text_fields(item, full_key))\n",
    "\n",
    "            elif isinstance(v, dict) :\n",
    "                # print('test')\n",
    "                text_fields.update(get_text_fields(v, full_key))\n",
    "    \n",
    "    return text_fields"
   ]
  },
  {
   "cell_type": "code",
   "execution_count": 33,
   "id": "22a5ced6",
   "metadata": {},
   "outputs": [
    {
     "name": "stdout",
     "output_type": "stream",
     "text": [
      "Champs contenant du texte :\n",
      "content.sections.subsections\n",
      "content.sections.subsections.subsections\n",
      "content.sections.subsections.text\n",
      "content.sections.subsections.title\n",
      "content.sections.text\n",
      "content.sections.title\n",
      "content.summary\n",
      "content.title\n",
      "url\n"
     ]
    }
   ],
   "source": [
    "text_fields = get_text_fields(data[0])\n",
    "print(\"Champs contenant du texte :\")\n",
    "for f in sorted(text_fields) :\n",
    "    print(f)"
   ]
  },
  {
   "cell_type": "code",
   "execution_count": 115,
   "id": "f8a5e6e6",
   "metadata": {},
   "outputs": [],
   "source": [
    "with open(\"data/qrels.json\", \"r\", encoding=\"utf-8\") as f :\n",
    "    qrels = json.load(f)\n",
    "results = {} \n",
    "\n",
    "for query_text in qrels.keys() :\n",
    "    res = es.search(\n",
    "        index=\"wikipedia\",\n",
    "        query={\n",
    "            \"multi_match\" : {\n",
    "                \"query\": query_text,\n",
    "                \"fields\": list(text_fields),\n",
    "                \"type\": \"most_fields\" # best_fields\n",
    "            }\n",
    "        },\n",
    "        size=100\n",
    "    )\n",
    "\n",
    "    results[query_text] = [(hit[\"_id\"], hit[\"_score\"]) for hit in res[\"hits\"][\"hits\"]]"
   ]
  },
  {
   "cell_type": "code",
   "execution_count": 116,
   "id": "60b470ac",
   "metadata": {},
   "outputs": [
    {
     "name": "stdout",
     "output_type": "stream",
     "text": [
      "\n",
      "Query : long cutscenes stealth game with radio conversations\n",
      "1. 99Iu1tHHYH - score: 35.73718\n",
      "\n",
      "Query : open world parkour across historical city rooftops\n",
      "1. DElQDCBGfl - score: 53.678482\n",
      "\n",
      "Query : top down handheld adventure with dungeons and keys\n",
      "1. vxYq433g1j - score: 40.999847\n",
      "\n",
      "Query : scientist in hazmat suit escaping a research facility after an experiment goes wrong\n",
      "1. KHWgUvytOU - score: 57.331432\n",
      "\n",
      "Query : neo geo arcade shooter known for heavy machine gun\n",
      "1. 9TSl9_dOiL - score: 70.57631\n",
      "\n",
      "Query : cartoon platformer with a limbless hero and floating hands\n",
      "1. Uf6uvvkzYD - score: 38.849888\n",
      "\n",
      "Query : life simulation game where you build a house and control a family\n",
      "1. lkkB45uZYm - score: 62.0547\n",
      "\n",
      "Query : train and race chocobos to find hidden treasures\n",
      "1. lkkB45uZYm - score: 51.913616\n",
      "\n",
      "Query : open world crime sandbox where you can steal any car\n",
      "1. 9XbEWrFEKu - score: 45.790924\n",
      "\n",
      "Query : super soldier program in nazi fortified castle\n",
      "1. vH5wxUbmMx - score: 44.956097\n",
      "\n",
      "Query : blast demons with shotgun chaingun and rocket launcher no reloads\n",
      "1. PyL9TxKbS0 - score: 44.395237\n",
      "\n",
      "Query : evolve creatures by leveling stones friendship or trading\n",
      "1. fArshcjjPY - score: 33.341396\n",
      "\n",
      "Query : cozy life sim moving to a small village and paying off house loans\n",
      "1. RPzcULXHDv - score: 62.288647\n",
      "\n",
      "Query : wisecracking treasure hunter climbing cliffs and ancient ruins\n",
      "1. glPMY9kZz5 - score: 39.144505\n",
      "\n",
      "Query : venom infiltration but not solid neither naked\n",
      "1. uKPiWHNGc0 - score: 53.27543\n"
     ]
    }
   ],
   "source": [
    "for query, hits in results.items() :\n",
    "    print(f\"\\nQuery : {query}\")\n",
    "    for i, (doc_id, score) in enumerate(hits[:1], start=1) :\n",
    "        print(f\"{i}. {doc_id} - score: {score}\")"
   ]
  },
  {
   "cell_type": "markdown",
   "id": "b813d037",
   "metadata": {},
   "source": [
    "### Query Baseline "
   ]
  },
  {
   "cell_type": "code",
   "execution_count": 124,
   "id": "76cfa571",
   "metadata": {},
   "outputs": [],
   "source": [
    "with open(\"data/qrels.json\", \"r\", encoding=\"utf-8\") as f :\n",
    "    qrels = json.load(f)\n",
    "results = {} \n",
    "\n",
    "for query_text in qrels.keys() :\n",
    "    res = es.search(\n",
    "        index=\"wikipedia\",\n",
    "        query={\n",
    "            \"multi_match\" : {\n",
    "                \"query\": query_text,\n",
    "                \"fields\": list(text_fields),\n",
    "            }\n",
    "        },\n",
    "        size=100\n",
    "    )\n",
    "\n",
    "    results[query_text] = [(hit[\"_id\"], hit[\"_score\"]) for hit in res[\"hits\"][\"hits\"]]"
   ]
  },
  {
   "cell_type": "code",
   "execution_count": 125,
   "id": "a2a84330",
   "metadata": {},
   "outputs": [
    {
     "name": "stdout",
     "output_type": "stream",
     "text": [
      "\n",
      "Query : long cutscenes stealth game with radio conversations\n",
      "1. uKPiWHNGc0 - score: 15.488652\n",
      "2. 7rlOsfL4rN - score: 15.488652\n",
      "\n",
      "Query : open world parkour across historical city rooftops\n",
      "1. DElQDCBGfl - score: 21.346376\n",
      "2. -QpOStAVai - score: 21.346376\n",
      "\n",
      "Query : top down handheld adventure with dungeons and keys\n",
      "1. 0UkVv73Cfw - score: 16.344856\n",
      "2. mX4FJWTtIf - score: 15.390259\n",
      "\n",
      "Query : scientist in hazmat suit escaping a research facility after an experiment goes wrong\n",
      "1. KHWgUvytOU - score: 23.967096\n",
      "2. Ibj0PzYySF - score: 20.68229\n",
      "\n",
      "Query : neo geo arcade shooter known for heavy machine gun\n",
      "1. wTimBrFPeT - score: 27.119688\n",
      "2. UeKNHSHB2z - score: 26.945675\n",
      "\n",
      "Query : cartoon platformer with a limbless hero and floating hands\n",
      "1. htLsZxpCO5 - score: 16.14294\n",
      "2. jvHMtHpx67 - score: 16.096125\n",
      "\n",
      "Query : life simulation game where you build a house and control a family\n",
      "1. 9b1gZBb3nQ - score: 24.256336\n",
      "2. lkkB45uZYm - score: 23.826632\n",
      "\n",
      "Query : train and race chocobos to find hidden treasures\n",
      "1. DMYOUXoibv - score: 18.292091\n",
      "2. lkkB45uZYm - score: 14.86191\n",
      "\n",
      "Query : open world crime sandbox where you can steal any car\n",
      "1. 86MmBS1w__ - score: 21.045265\n",
      "2. 9XbEWrFEKu - score: 20.519468\n",
      "\n",
      "Query : super soldier program in nazi fortified castle\n",
      "1. AQKCtuu2am - score: 17.599335\n",
      "2. xINy31MmpU - score: 16.977623\n",
      "\n",
      "Query : blast demons with shotgun chaingun and rocket launcher no reloads\n",
      "1. 7RnZJjyc3Y - score: 28.272522\n",
      "2. e6NVc7XxA8 - score: 26.363068\n",
      "\n",
      "Query : evolve creatures by leveling stones friendship or trading\n",
      "1. CGlaz0dxEB - score: 15.385461\n",
      "2. SU0q04H1IV - score: 14.824946\n",
      "\n",
      "Query : cozy life sim moving to a small village and paying off house loans\n",
      "1. xT85TCh75c - score: 21.927706\n",
      "2. m8rFc7K-k8 - score: 17.204199\n",
      "\n",
      "Query : wisecracking treasure hunter climbing cliffs and ancient ruins\n",
      "1. PynjMyhpVw - score: 20.393442\n",
      "2. vhY1IsguL0 - score: 17.93179\n",
      "\n",
      "Query : venom infiltration but not solid neither naked\n",
      "1. 9Gduknx5je - score: 22.298807\n",
      "2. CmqXP-OxPv - score: 18.250057\n"
     ]
    }
   ],
   "source": [
    "for query, hits in results.items() :\n",
    "    print(f\"\\nQuery : {query}\")\n",
    "    for i, (doc_id, score) in enumerate(hits[:2], start=1) :\n",
    "        print(f\"{i}. {doc_id} - score: {score}\")"
   ]
  },
  {
   "cell_type": "markdown",
   "id": "c7e5d45c",
   "metadata": {},
   "source": [
    "### Analyse des resultats - Metrics"
   ]
  },
  {
   "cell_type": "code",
   "execution_count": 126,
   "id": "9fd515da",
   "metadata": {},
   "outputs": [],
   "source": [
    "predictions = {}\n",
    "for query, hits in results.items() :\n",
    "    predictions[query] = {doc_id: float(score) for doc_id, score in hits}"
   ]
  },
  {
   "cell_type": "code",
   "execution_count": 127,
   "id": "281096a8",
   "metadata": {},
   "outputs": [],
   "source": [
    "metrics = ['P_10', 'P_100', 'recall_100', 'ndcg_cut_100']\n",
    "\n",
    "evaluator = pytrec_eval.RelevanceEvaluator(qrels, metrics)\n",
    "eval_results = evaluator.evaluate(predictions)\n",
    "\n",
    "all_precision_10 = []; all_precision_100 = []; all_recall = []; all_dcg = []\n",
    "\n",
    "for metrics in eval_results.values():\n",
    "    all_precision_10.append(metrics['P_10'])\n",
    "    all_precision_100.append(metrics['P_100'])\n",
    "    all_recall.append(metrics['recall_100'])\n",
    "    all_dcg.append(metrics['ndcg_cut_100'])"
   ]
  },
  {
   "cell_type": "code",
   "execution_count": 128,
   "id": "fd9d476c",
   "metadata": {},
   "outputs": [],
   "source": [
    "def dcg_at_k(hits, qrels, k=100):\n",
    "    dcg = 0.0\n",
    "    for i, doc_id in enumerate(hits[:k], start=1):\n",
    "        rel = qrels.get(doc_id, 0)\n",
    "        dcg += rel / math.log2(i + 1) \n",
    "    return dcg\n",
    "\n",
    "def hit_rate_at_k(qrels, results, k=100):\n",
    "    hits_count = 0\n",
    "    total_queries = len(qrels)\n",
    "    for query, rel_docs in qrels.items():\n",
    "        top_k_docs = [doc_id for doc_id, _ in results.get(query, [])][:k]\n",
    "        if any(doc_id in rel_docs and rel_docs[doc_id] > 0 for doc_id in top_k_docs):\n",
    "            hits_count += 1\n",
    "    return hits_count / total_queries\n",
    "\n",
    "dcg_scores = {}\n",
    "for query, hits in results.items() :\n",
    "    hit_ids = [doc_id for doc_id, _ in hits]\n",
    "    dcg_scores[query] = dcg_at_k(hit_ids, qrels[query], k=100)\n",
    "\n",
    "avg_dcg = sum(dcg_scores.values()) / len(dcg_scores)\n",
    "hit_rate_100 = hit_rate_at_k(qrels, results, k=100)"
   ]
  },
  {
   "cell_type": "code",
   "execution_count": 129,
   "id": "602fe3af",
   "metadata": {},
   "outputs": [
    {
     "name": "stdout",
     "output_type": "stream",
     "text": [
      "Moyenne Precision@10 :  0.23\n",
      "Moyenne Precision@100 :  0.06\n",
      "Moyenne Recall@100 :  0.49\n",
      "Moyenne NDCG@100 :  0.29\n",
      "Moyenne DCG@100 :  16.44\n",
      "Hit Rate@100 :  1.0\n"
     ]
    }
   ],
   "source": [
    "print(\"Moyenne Precision@10 : \", round(sum(all_precision_10)/len(all_precision_10), 2))\n",
    "print(\"Moyenne Precision@100 : \", round(sum(all_precision_100)/len(all_precision_100), 2))\n",
    "print(\"Moyenne Recall@100 : \", round(sum(all_recall)/len(all_recall), 2))\n",
    "print(\"Moyenne NDCG@100 : \", round(sum(all_dcg)/len(all_dcg), 2))\n",
    "print(\"Moyenne DCG@100 : \", round(avg_dcg, 2))\n",
    "print(\"Hit Rate@100 : \", round(hit_rate_100, 2))"
   ]
  },
  {
   "cell_type": "markdown",
   "id": "397f73d0",
   "metadata": {},
   "source": [
    "### Observation"
   ]
  },
  {
   "cell_type": "markdown",
   "id": "6417ca9a",
   "metadata": {},
   "source": [
    "#### Moyenne Precision@100 :  0.06 et Precision@10 :  0.23\n",
    "- Représente le rapport du nombre de documents dans le top 100 qui sont pertinents par rapport au docs dans le ground truth (GT, qrels).\n",
    "- Valeur faible, cela s’explique en partie par le fait que le GT contient un nombre fini de documents pertinents.\n",
    "- Exemple : pour la première requête, il y a 14 documents pertinents dans le GT. La précision maximale possible serait 14%.\n",
    "- J'ai donc essayé de cacluler la précision Precision@10 qui donne 0.23, ce qui montre que le moteur de recherche met une part de documents pertinents dans les 10 premiers résultats.\n",
    "\n",
    "#### Moyenne Recall@100 :  0.49\n",
    "- Représente la proportion des documents pertinents (GT) qui sont retrouvés dans le top 100.\n",
    "- Ici la recherche couvre en moyenne 49% des documents pertinents.\n",
    "\n",
    "#### Moyenne NDCG@100 :  0.29\n",
    "- Mesure la qualité du classement des documents pertinents dans le top 100, normalisée entre 0 et 1.\n",
    "- La valeur faible (0.29) indique que les documents pertinents qui apparaissent ne sont pas bien positionnés dans le classement.\n",
    "\n",
    "#### Moyenne DCG@100 :  16.44\n",
    "\n",
    "- Correspond a la somme des gains (= niveaux de pertinence) pondérés par la position dans la liste.\n",
    "- NCDG est plus représenttif car il est normalisé. Ici la valeur reste faible et indique que les documents pertinents apparaissent loin dans le classement.\n",
    "\n",
    "#### Hit Rate@100 :  1.0\n",
    "\n",
    "- Represente la proportion du nbr de requêtes pour lesquelles au moins un document du GT apparaît dans le top 100.\n",
    "\n",
    "- Ici toutes les requêtes ont au moins un document pertinent dans le top 100. le moteur retrouve toujours quelque chose de pertinent, même si ce n’est pas très précis ni bien classé.\n",
    "\n",
    "#### Synthèse globales\n",
    "\n",
    "Les documents pertinents sont bien retrouvés mais mal classés.\n",
    "Le rappel est correct (49%), ce qui montre assez une bonne couverture et aucune requête ne renvoie un top 100 complètement vide de document pertinent (GT) ce qui est rassurant.\n",
    "\n",
    "### Conclusion  \n",
    "- Le moteur de recherche retrouve quand même des documents pertinents. \n",
    "- Le ranking doit clairement être amélioré. \n",
    "- Une seconde amélioration peut être liée à la façon d'indexer les documents. Ici les données sont indexées champ par champ, une seconde version pourrait consister à flatten les données pour donner plus de contexte aux requêtes"
   ]
  },
  {
   "cell_type": "markdown",
   "id": "ba222c2c",
   "metadata": {},
   "source": [
    "## Partie 2 — Extensions et experimentations"
   ]
  },
  {
   "cell_type": "markdown",
   "id": "773a9b69",
   "metadata": {},
   "source": [
    "### Ajout du LLM pour rerank"
   ]
  },
  {
   "cell_type": "code",
   "execution_count": null,
   "id": "c94c7d92",
   "metadata": {},
   "outputs": [],
   "source": [
    "load_dotenv()\n",
    "client = OpenAI(api_key=os.getenv(\"OPENAI_API_KEY\"))"
   ]
  },
  {
   "cell_type": "code",
   "execution_count": 138,
   "id": "7a3b486b",
   "metadata": {},
   "outputs": [],
   "source": [
    "def llm_evaluate(query : str, document_text : str) :\n",
    "    \"\"\"\n",
    "    Utilise llm pour rerank via un analyse query by query. \n",
    "    \"\"\"\n",
    "    prompt = (\n",
    "        f\"Évalue la pertinence du document par rapport à la requête.\\n\"\n",
    "        f\"Requête : {query}\\n\"\n",
    "        f\"Document : {document_text}\\n\"\n",
    "        f\"Renvoie uniquement un objet JSON avec un seul champ :\\n\"\n",
    "        f\"{{\\\"score\\\": x.xxx}}\\n\"\n",
    "        f\"Le score doit être un nombre entre 0 et 1, avec 3 ou 4 décimales, \"\n",
    "        f\"sans texte supplémentaire.\"\n",
    "    )\n",
    "\n",
    "    try:\n",
    "        response = client.responses.create(\n",
    "            model=\"gpt-4\",  # À des fins de réduire les couts comparé à GPT 5\n",
    "            input=prompt,\n",
    "            temperature=0\n",
    "        )\n",
    "        text = response.output[0].content[0].text.strip()\n",
    "        data = json.loads(text)\n",
    "        score = float(data[\"score\"])\n",
    "        return max(0.0, min(1.0, score))\n",
    "    \n",
    "    except Exception as e :\n",
    "        print(\"Erreur parsing JSON ou LLM:\", e)\n",
    "        return 0.0"
   ]
  },
  {
   "cell_type": "code",
   "execution_count": 139,
   "id": "efe03df1",
   "metadata": {},
   "outputs": [
    {
     "name": "stdout",
     "output_type": "stream",
     "text": [
      "0.875\n"
     ]
    }
   ],
   "source": [
    "# test\n",
    "query = \"long cutscenes stealth game with radio conversations\"\n",
    "document_text = \"This game features long stealth missions with radio conversations and multiple objectives.\"\n",
    "score = llm_evaluate(query, document_text)\n",
    "print(score)"
   ]
  },
  {
   "cell_type": "code",
   "execution_count": 142,
   "id": "5cf8a0f6",
   "metadata": {},
   "outputs": [],
   "source": [
    "# Reduction du texte en input du LLM et calcul du nombre de token pour tronquer.\n",
    "MODEL_NAME = \"gpt-4\" \n",
    "ENC = tiktoken.encoding_for_model(MODEL_NAME)\n",
    "\n",
    "def extract_title_summary(doc, max_tokens=2000) :\n",
    "    \"\"\"\n",
    "    Extrait titre et summary\n",
    "    \"\"\"\n",
    "    parts = []\n",
    "    if \"content\" in doc:\n",
    "        if \"title\" in doc[\"content\"]:\n",
    "            parts.append(f\"Title : {doc['content']['title']}\")\n",
    "        if \"summary\" in doc[\"content\"]:\n",
    "            parts.append(f\"Summary : {doc['content']['summary']}\")\n",
    "\n",
    "    \n",
    "    text = \"\\n\".join(parts)\n",
    "    tokens = ENC.encode(text)\n",
    "    n_tokens = len(tokens)\n",
    "    # Tronquer\n",
    "    if n_tokens > max_tokens:\n",
    "        truncated_tokens = tokens[:max_tokens]\n",
    "        text = ENC.decode(truncated_tokens)\n",
    "        print(f\"[Warning] Texte tronqué : {n_tokens} → {max_tokens} tokens\")\n",
    "    \n",
    "    return text"
   ]
  },
  {
   "cell_type": "code",
   "execution_count": 143,
   "id": "625733d9",
   "metadata": {},
   "outputs": [
    {
     "name": "stdout",
     "output_type": "stream",
     "text": [
      "Moyenne Precision@10 :  0.23\n",
      "Moyenne Precision@100 :  0.06\n",
      "Moyenne Recall@100 :  0.49\n",
      "Moyenne NDCG@100 :  16.44\n",
      "Moyenne DCG@100 :  16.44\n"
     ]
    }
   ],
   "source": [
    "with mlflow.start_run(run_name=\"BM25 + LLM reranking\"):\n",
    "    mlflow.log_param(\"top_k\", 100)\n",
    "    mlflow.log_param(\"use_llm_reranking\", True)\n",
    "    \n",
    "    results = {}\n",
    "\n",
    "    # Requete comme precedemment\n",
    "    qrels_subset = dict(list(qrels.items())[:3]) # Pour limiter le temps d'execution on prend juste les top 3 query\n",
    "    for query_text in qrels_subset.keys():\n",
    "        res = es.search(\n",
    "            index=\"wikipedia\",\n",
    "            query={\n",
    "                \"multi_match\": {\n",
    "                    \"query\": query_text,\n",
    "                    \"fields\": list(text_fields),\n",
    "                }\n",
    "            },\n",
    "            size=100\n",
    "        )\n",
    "        docs = [(hit[\"_id\"], hit[\"_source\"]) for hit in res[\"hits\"][\"hits\"]]\n",
    "\n",
    "        # Ajout du score via LLM\n",
    "        scored_docs = []\n",
    "        for doc_id, text in docs :\n",
    "            llm_input_text = extract_title_summary(text)\n",
    "            score = llm_evaluate(query_text, llm_input_text)\n",
    "            scored_docs.append((doc_id, score))\n",
    "        reranked_docs = sorted(scored_docs, key=lambda x: x[1], reverse=True)\n",
    "        results[query_text] = reranked_docs\n",
    "\n",
    "    # Calcul de metriques\n",
    "    metrics = ['P_10', 'P_100', 'recall_100', 'ndcg_cut_100']\n",
    "    evaluator = pytrec_eval.RelevanceEvaluator(qrels, metrics)\n",
    "    eval_results = evaluator.evaluate(predictions)\n",
    "\n",
    "    all_precision_10 = []; all_recall = []; all_ndcg = []; all_dcg = []\n",
    "\n",
    "    for query, query_metrics in eval_results.items() :\n",
    "        all_precision_10.append(query_metrics['P_10'])\n",
    "        all_precision_100.append(query_metrics['P_100'])\n",
    "        all_recall.append(query_metrics['recall_100'])\n",
    "        all_ndcg.append(query_metrics['ndcg_cut_100'])\n",
    "\n",
    "        top_100_docs = list(predictions[query].keys())[:100]\n",
    "        all_dcg.append(dcg_at_k(top_100_docs, qrels[query], k=100))\n",
    "\n",
    "    mlflow.log_metric(\"precision_10\", sum(all_precision_10)/len(all_precision_10))\n",
    "    mlflow.log_metric(\"precision_100\", sum(all_precision_100)/len(all_precision_100))\n",
    "    mlflow.log_metric(\"recall_100\", sum(all_recall)/len(all_recall))\n",
    "    mlflow.log_metric(\"ndcg_100\", sum(all_ndcg)/len(all_ndcg))\n",
    "    mlflow.log_metric(\"dcg_100\", sum(all_dcg)/len(all_dcg))\n",
    "\n",
    "    print(\"Moyenne Precision@10 : \", round(sum(all_precision_10)/len(all_precision_10), 2))\n",
    "    print(\"Moyenne Precision@100 : \", round(sum(all_precision_100)/len(all_precision_100), 2))\n",
    "    print(\"Moyenne Recall@100 : \", round(sum(all_recall)/len(all_recall), 2))\n",
    "    print(\"Moyenne NDCG@100 : \", round(sum(all_dcg)/len(all_dcg), 2))\n",
    "    print(\"Moyenne DCG@100 : \", round(avg_dcg, 2))\n",
    "\n",
    "mlflow.end_run()"
   ]
  },
  {
   "cell_type": "markdown",
   "id": "4f5b48a2",
   "metadata": {},
   "source": [
    "### Conclusion\n",
    "- Les performances n’ont pas progressées (ceci est en lien avec la façon dont le rerank via LLM as a judge est mise en place).\n",
    "- Limite identifiée : le LLM, appelé pour chaque document individuellement, ne tient pas compte de l’ensemble des résultats (il ne compare pas les documents entre eux mais calcule le score un à un).\n",
    "- Une explication détaillé est présente dans le rapport, ainsi que les améliorations à mettre en place."
   ]
  },
  {
   "cell_type": "code",
   "execution_count": 145,
   "id": "19eafbaf",
   "metadata": {},
   "outputs": [],
   "source": [
    "# Afin de voir les résultats dans mlflow, run la commande suivante dans le terminal :\n",
    "# poetry run mlflow ui"
   ]
  }
 ],
 "metadata": {
  "kernelspec": {
   "display_name": "video-game-py3.12",
   "language": "python",
   "name": "python3"
  },
  "language_info": {
   "codemirror_mode": {
    "name": "ipython",
    "version": 3
   },
   "file_extension": ".py",
   "mimetype": "text/x-python",
   "name": "python",
   "nbconvert_exporter": "python",
   "pygments_lexer": "ipython3",
   "version": "3.12.7"
  }
 },
 "nbformat": 4,
 "nbformat_minor": 5
}
